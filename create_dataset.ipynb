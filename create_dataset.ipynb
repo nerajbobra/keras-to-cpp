{
 "cells": [
  {
   "cell_type": "markdown",
   "metadata": {},
   "source": [
    "Import stuff"
   ]
  },
  {
   "cell_type": "code",
   "execution_count": 1,
   "metadata": {
    "collapsed": true
   },
   "outputs": [],
   "source": [
    "from sklearn.datasets import load_breast_cancer\n",
    "import pandas as pd\n",
    "\n"
   ]
  },
  {
   "cell_type": "markdown",
   "metadata": {},
   "source": [
    "Load up the breast cancer dataset and export the features and labels as pickle files"
   ]
  },
  {
   "cell_type": "code",
   "execution_count": 2,
   "metadata": {
    "collapsed": true
   },
   "outputs": [],
   "source": [
    "data = load_breast_cancer()\n",
    "\n",
    "#replace the spaces in the feature names as underscores to avoid weirdness with white spaces\n",
    "feature_names = [d.replace(' ', '_') for d in data['feature_names']]\n",
    "X = pd.DataFrame(data['data'], columns=feature_names)\n",
    "y = pd.DataFrame(data['target'], columns=['label'])\n",
    "\n",
    "#save to pickle files\n",
    "X.to_pickle('X.pkl')\n",
    "y.to_pickle('y.pkl')"
   ]
  }
 ],
 "metadata": {
  "kernelspec": {
   "display_name": "Python 3",
   "language": "python",
   "name": "python3"
  },
  "language_info": {
   "codemirror_mode": {
    "name": "ipython",
    "version": 3
   },
   "file_extension": ".py",
   "mimetype": "text/x-python",
   "name": "python",
   "nbconvert_exporter": "python",
   "pygments_lexer": "ipython3",
   "version": "3.6.1"
  }
 },
 "nbformat": 4,
 "nbformat_minor": 2
}
